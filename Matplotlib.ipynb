{
 "cells": [
  {
   "cell_type": "markdown",
   "metadata": {},
   "source": [
    "**Forma de visualizar dados em forma de graficos**\n",
    "\n",
    "Exemplo usando os dados que foram analisados anteriormente"
   ]
  },
  {
   "cell_type": "code",
   "execution_count": 8,
   "metadata": {},
   "outputs": [],
   "source": [
    "import pandas as pd\n",
    "import matplotlib.pyplot as plt"
   ]
  },
  {
   "cell_type": "code",
   "execution_count": 9,
   "metadata": {},
   "outputs": [],
   "source": [
    "# Lendo o arquivo CSV com o delimitador correto\n",
    "tesouroDireto = pd.read_csv('csv/EstoqueTesouroDireto.csv', delimiter=';')\n",
    "\n",
    "# Convertendo a coluna de data de vencimento para datetime com `dayfirst=True`\n",
    "tesouroDireto['Vencimento do Titulo'] = pd.to_datetime(tesouroDireto['Vencimento do Titulo'], dayfirst=True, errors='coerce')\n",
    "\n",
    "# Calculando o tempo restante para o vencimento\n",
    "tesouroDireto['Tempo para Vencimento'] = (tesouroDireto['Vencimento do Titulo'] - pd.Timestamp.now()).dt.days\n",
    "\n",
    "# Classificando entre curto prazo (<= 5 anos) e longo prazo (> 5 anos)\n",
    "tesouroDireto['Prazo'] = tesouroDireto['Tempo para Vencimento'].apply(lambda x: 'Curto Prazo' if x <= 5*365 else 'Longo Prazo')\n",
    "\n",
    "# Contando quantos títulos estão em cada categoria\n",
    "vencimento_contagem = tesouroDireto['Prazo'].value_counts()"
   ]
  },
  {
   "cell_type": "code",
   "execution_count": 11,
   "metadata": {},
   "outputs": [
    {
     "ename": "ValueError",
     "evalue": "plt.plot is not a valid plot kind Valid plot kinds: ('line', 'bar', 'barh', 'kde', 'density', 'area', 'hist', 'box', 'pie', 'scatter', 'hexbin')",
     "output_type": "error",
     "traceback": [
      "\u001b[1;31m---------------------------------------------------------------------------\u001b[0m",
      "\u001b[1;31mValueError\u001b[0m                                Traceback (most recent call last)",
      "Cell \u001b[1;32mIn[11], line 1\u001b[0m\n\u001b[1;32m----> 1\u001b[0m \u001b[43mvencimento_contagem\u001b[49m\u001b[38;5;241;43m.\u001b[39;49m\u001b[43mplot\u001b[49m\u001b[43m(\u001b[49m\u001b[43mkind\u001b[49m\u001b[38;5;241;43m=\u001b[39;49m\u001b[38;5;124;43m'\u001b[39;49m\u001b[38;5;124;43mplt.plot\u001b[39;49m\u001b[38;5;124;43m'\u001b[39;49m\u001b[43m,\u001b[49m\u001b[43m \u001b[49m\u001b[43mtitle\u001b[49m\u001b[38;5;241;43m=\u001b[39;49m\u001b[38;5;124;43m'\u001b[39;49m\u001b[38;5;124;43mDistribuição de Títulos por Prazo\u001b[39;49m\u001b[38;5;124;43m'\u001b[39;49m\u001b[43m)\u001b[49m\n\u001b[0;32m      2\u001b[0m plt\u001b[38;5;241m.\u001b[39mylabel(\u001b[38;5;124m'\u001b[39m\u001b[38;5;124mQuantidade de Títulos\u001b[39m\u001b[38;5;124m'\u001b[39m)\n\u001b[0;32m      3\u001b[0m plt\u001b[38;5;241m.\u001b[39mshow()\n",
      "File \u001b[1;32mc:\\Users\\User\\AppData\\Local\\Programs\\Python\\Python312\\Lib\\site-packages\\pandas\\plotting\\_core.py:960\u001b[0m, in \u001b[0;36mPlotAccessor.__call__\u001b[1;34m(self, *args, **kwargs)\u001b[0m\n\u001b[0;32m    957\u001b[0m     \u001b[38;5;28;01mreturn\u001b[39;00m plot_backend\u001b[38;5;241m.\u001b[39mplot(\u001b[38;5;28mself\u001b[39m\u001b[38;5;241m.\u001b[39m_parent, x\u001b[38;5;241m=\u001b[39mx, y\u001b[38;5;241m=\u001b[39my, kind\u001b[38;5;241m=\u001b[39mkind, \u001b[38;5;241m*\u001b[39m\u001b[38;5;241m*\u001b[39mkwargs)\n\u001b[0;32m    959\u001b[0m \u001b[38;5;28;01mif\u001b[39;00m kind \u001b[38;5;129;01mnot\u001b[39;00m \u001b[38;5;129;01min\u001b[39;00m \u001b[38;5;28mself\u001b[39m\u001b[38;5;241m.\u001b[39m_all_kinds:\n\u001b[1;32m--> 960\u001b[0m     \u001b[38;5;28;01mraise\u001b[39;00m \u001b[38;5;167;01mValueError\u001b[39;00m(\n\u001b[0;32m    961\u001b[0m         \u001b[38;5;124mf\u001b[39m\u001b[38;5;124m\"\u001b[39m\u001b[38;5;132;01m{\u001b[39;00mkind\u001b[38;5;132;01m}\u001b[39;00m\u001b[38;5;124m is not a valid plot kind \u001b[39m\u001b[38;5;124m\"\u001b[39m\n\u001b[0;32m    962\u001b[0m         \u001b[38;5;124mf\u001b[39m\u001b[38;5;124m\"\u001b[39m\u001b[38;5;124mValid plot kinds: \u001b[39m\u001b[38;5;132;01m{\u001b[39;00m\u001b[38;5;28mself\u001b[39m\u001b[38;5;241m.\u001b[39m_all_kinds\u001b[38;5;132;01m}\u001b[39;00m\u001b[38;5;124m\"\u001b[39m\n\u001b[0;32m    963\u001b[0m     )\n\u001b[0;32m    965\u001b[0m \u001b[38;5;66;03m# The original data structured can be transformed before passed to the\u001b[39;00m\n\u001b[0;32m    966\u001b[0m \u001b[38;5;66;03m# backend. For example, for DataFrame is common to set the index as the\u001b[39;00m\n\u001b[0;32m    967\u001b[0m \u001b[38;5;66;03m# `x` parameter, and return a Series with the parameter `y` as values.\u001b[39;00m\n\u001b[0;32m    968\u001b[0m data \u001b[38;5;241m=\u001b[39m \u001b[38;5;28mself\u001b[39m\u001b[38;5;241m.\u001b[39m_parent\u001b[38;5;241m.\u001b[39mcopy()\n",
      "\u001b[1;31mValueError\u001b[0m: plt.plot is not a valid plot kind Valid plot kinds: ('line', 'bar', 'barh', 'kde', 'density', 'area', 'hist', 'box', 'pie', 'scatter', 'hexbin')"
     ]
    }
   ],
   "source": [
    "vencimento_contagem.plot(kind='bar', title='Distribuição de Títulos por Prazo')\n",
    "plt.ylabel('Quantidade de Títulos')\n",
    "plt.show()"
   ]
  },
  {
   "cell_type": "markdown",
   "metadata": {},
   "source": [
    "**Principais Tipos de Gráficos no Python para Ciência de Dados**\n",
    "\n",
    "**1. Gráfico de Linhas (`plt.plot`)**\n",
    "- **Uso**: Comparar tendências ao longo do tempo ou mudanças contínuas.\n",
    "- **Melhor para**: Séries temporais, como vendas mensais ou evolução de uma variável.\n",
    "- **Exemplo**: Vendas de uma loja ao longo dos meses.\n",
    "\n",
    "**2. Gráfico de Barras (`plt.bar`)**\n",
    "- **Uso**: Comparar valores entre categorias discretas.\n",
    "- **Melhor para**: Comparar quantidades, como vendas de produtos.\n",
    "- **Exemplo**: Número de alunos em diferentes cursos.\n",
    "\n",
    "**3. Histograma (`plt.hist`)**\n",
    "- **Uso**: Mostrar a distribuição de uma variável contínua.\n",
    "- **Melhor para**: Visualizar distribuições numéricas, como idades ou salários.\n",
    "- **Exemplo**: Distribuição de renda dos clientes.\n",
    "\n",
    "**4. Gráfico de Dispersão (`plt.scatter`)**\n",
    "- **Uso**: Verificar a relação entre duas variáveis contínuas.\n",
    "- **Melhor para**: Detectar correlações ou outliers.\n",
    "- **Exemplo**: Relação entre tamanho da casa e preço.\n",
    "\n",
    "**5. Boxplot (Gráfico de Caixa) (`plt.boxplot` ou `sns.boxplot`)**\n",
    "- **Uso**: Mostrar a distribuição e dispersão de dados, com destaque para quartis e outliers.\n",
    "- **Melhor para**: Comparar distribuições de variáveis e detectar outliers.\n",
    "- **Exemplo**: Distribuição de salários em diferentes departamentos.\n",
    "\n",
    "**6. Gráfico de Pizza (`plt.pie`)**\n",
    "- **Uso**: Mostrar a proporção de cada categoria em relação ao total.\n",
    "- **Melhor para**: Visualizar a composição de categorias discretas.\n",
    "- **Exemplo**: Participação de mercado de empresas.\n",
    "\n",
    "**7. Heatmap (Gráfico de Correlação) (`sns.heatmap`)**\n",
    "- **Uso**: Visualizar correlações entre variáveis em uma matriz.\n",
    "- **Melhor para**: Detectar correlações positivas e negativas entre variáveis.\n",
    "- **Exemplo**: Correlações entre indicadores econômicos.\n",
    "\n",
    "**8. Pairplot (Gráfico de Dispersão Múltiplo) (`sns.pairplot`)**\n",
    "- **Uso**: Mostrar relações entre múltiplas variáveis com gráficos de dispersão.\n",
    "- **Melhor para**: Analisar várias variáveis ao mesmo tempo.\n",
    "- **Exemplo**: Relação entre PIB, inflação e taxa de juros.\n",
    "\n",
    "**9. Violin Plot (`sns.violinplot`)**\n",
    "- **Uso**: Combina boxplot e kernel density plot para mostrar a distribuição e densidade dos dados.\n",
    "- **Melhor para**: Comparar a distribuição de dados em diferentes categorias.\n",
    "- **Exemplo**: Distribuição salarial de homens e mulheres.\n",
    "\n",
    "**10. Barra de Erro (`plt.errorbar`)**\n",
    "- **Uso**: Adicionar intervalos de confiança ou erros padrão a gráficos de linha ou barras.\n",
    "- **Melhor para**: Mostrar incerteza ou variação em experimentos científicos.\n",
    "- **Exemplo**: Vendas médias com desvio padrão.\n",
    "\n",
    "**11. Gráfico de Área (`plt.fill_between`)**\n",
    "- **Uso**: Similar ao gráfico de linha, mas com a área sob a linha preenchida.\n",
    "- **Melhor para**: Mostrar o volume cumulativo de uma variável ao longo do tempo.\n",
    "- **Exemplo**: Total de vendas cumulativas.\n",
    "\n",
    "**12. Gráfico de Regra (Regplot) (`sns.regplot`)**\n",
    "- **Uso**: Exibir a linha de regressão para visualizar a relação linear entre duas variáveis.\n",
    "- **Melhor para**: Verificar a relação linear e a inclinação de uma linha de tendência.\n",
    "- **Exemplo**: Relação entre gastos em marketing e aumento nas vendas.\n"
   ]
  }
 ],
 "metadata": {
  "kernelspec": {
   "display_name": "Python 3",
   "language": "python",
   "name": "python3"
  },
  "language_info": {
   "codemirror_mode": {
    "name": "ipython",
    "version": 3
   },
   "file_extension": ".py",
   "mimetype": "text/x-python",
   "name": "python",
   "nbconvert_exporter": "python",
   "pygments_lexer": "ipython3",
   "version": "3.12.6"
  }
 },
 "nbformat": 4,
 "nbformat_minor": 2
}
