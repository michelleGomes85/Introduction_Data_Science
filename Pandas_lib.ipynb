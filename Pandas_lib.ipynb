{
 "cells": [
  {
   "cell_type": "markdown",
   "metadata": {},
   "source": [
    "**Pandas Series**"
   ]
  },
  {
   "cell_type": "code",
   "execution_count": 7,
   "metadata": {},
   "outputs": [],
   "source": [
    "import pandas as pd"
   ]
  },
  {
   "cell_type": "code",
   "execution_count": null,
   "metadata": {},
   "outputs": [],
   "source": [
    "lista = [12, 23, 34, 45, 56, 67]\n",
    "\n",
    "# Transformar a lista em uma série dos Pandas\n",
    "serie_pandas = pd.Series(lista)\n",
    "\n",
    "print(serie_pandas)"
   ]
  },
  {
   "cell_type": "code",
   "execution_count": null,
   "metadata": {},
   "outputs": [],
   "source": [
    "notas = {'Thiago': 8, 'Maria': 9.6, 'Juca': 6.2}\n",
    "\n",
    "# Criar uma serie a partir do dicionario\n",
    "serie_notas = pd.Series(notas)\n",
    "\n",
    "print(serie_notas['Thiago'])"
   ]
  },
  {
   "cell_type": "markdown",
   "metadata": {},
   "source": [
    "O Pandas é construida usando a Numpy como base por isso pode se realizar alguns calculos"
   ]
  },
  {
   "cell_type": "code",
   "execution_count": null,
   "metadata": {},
   "outputs": [],
   "source": [
    "# Media\n",
    "print(serie_notas.mean())\n",
    "\n",
    "#Mediana da nota\n",
    "print(serie_notas.median())"
   ]
  },
  {
   "cell_type": "code",
   "execution_count": 9,
   "metadata": {},
   "outputs": [
    {
     "name": "stdout",
     "output_type": "stream",
     "text": [
      "count    3.000000\n",
      "mean     7.933333\n",
      "std      1.700980\n",
      "min      6.200000\n",
      "25%      7.100000\n",
      "50%      8.000000\n",
      "75%      8.800000\n",
      "max      9.600000\n",
      "dtype: float64\n"
     ]
    }
   ],
   "source": [
    "#Permite a pedir a descrição da serie.\n",
    "print(serie_notas.describe())"
   ]
  },
  {
   "cell_type": "markdown",
   "metadata": {},
   "source": [
    "**Pandas DataFrames**\n",
    "\n",
    "Estrutura de Dados semelhante a uma tabela"
   ]
  },
  {
   "cell_type": "code",
   "execution_count": 18,
   "metadata": {},
   "outputs": [
    {
     "name": "stdout",
     "output_type": "stream",
     "text": [
      "DataFrame:\n",
      "                   Série    Gênero  Temporadas  Avaliação\n",
      "0             Doctor Who    Sci-Fi          12        8.6\n",
      "1    The Big Bang Theory   Comédia          12        8.1\n",
      "2  The Lord of the Rings  Fantasia           1        8.9\n",
      "3         The Librarians  Aventura           4        7.6\n",
      "\n",
      "Média das avaliações: 8.30\n",
      "\n",
      "Máscara Boolean: \n",
      "0     True\n",
      "1     True\n",
      "2    False\n",
      "3    False\n",
      "Name: Temporadas, dtype: bool\n",
      "\n",
      "Séries com mais de 4 temporadas:\n",
      "                 Série   Gênero  Temporadas  Avaliação\n",
      "0           Doctor Who   Sci-Fi          12        8.6\n",
      "1  The Big Bang Theory  Comédia          12        8.1\n",
      "\n",
      "DataFrame após adicionar novas séries:\n",
      "                   Série    Gênero  Temporadas  Avaliação\n",
      "0             Doctor Who    Sci-Fi          12        8.6\n",
      "1    The Big Bang Theory   Comédia          12        8.1\n",
      "2  The Lord of the Rings  Fantasia           1        8.9\n",
      "3         The Librarians  Aventura           4        7.6\n",
      "4        Stranger Things    Sci-Fi           3        8.8\n",
      "5               Sherlock  Mistério           4        9.1\n",
      "\n",
      "DataFrame após editar dados:\n",
      "                   Série    Gênero  Temporadas  Avaliação\n",
      "0             Doctor Who    Sci-Fi          12        8.6\n",
      "1    The Big Bang Theory   Comédia          12        8.5\n",
      "2  The Lord of the Rings  Fantasia           2        8.9\n",
      "3         The Librarians  Aventura           4        7.6\n",
      "4        Stranger Things    Sci-Fi           3        8.8\n",
      "5               Sherlock  Mistério           4        9.1\n"
     ]
    }
   ],
   "source": [
    "# Criar um dicionário com dados sobre séries de TV\n",
    "dados = {\n",
    "    'Série': ['Doctor Who', 'The Big Bang Theory', 'The Lord of the Rings', 'The Librarians'],\n",
    "    'Gênero': ['Sci-Fi', 'Comédia', 'Fantasia', 'Aventura'],\n",
    "    'Temporadas': [12, 12, 1, 4],\n",
    "    'Avaliação': [8.6, 8.1, 8.9, 7.6]\n",
    "}\n",
    "\n",
    "# Criar um DataFrame a partir do dicionário\n",
    "df_series = pd.DataFrame(dados)\n",
    "\n",
    "# Exibir o DataFrame\n",
    "print(\"DataFrame:\")\n",
    "print(df_series)\n",
    "\n",
    "# Calcular a média das avaliações\n",
    "media_avaliacao = df_series['Avaliação'].mean()\n",
    "print(f\"\\nMédia das avaliações: {media_avaliacao:.2f}\")\n",
    "\n",
    "# Filtrar séries com mais de 4 temporadas\n",
    "mascara = df_series['Temporadas'] > 4\n",
    "print(\"\\nMáscara Boolean: \")\n",
    "print(mascara)\n",
    "\n",
    "series_acima_de_quatro_temporadas = df_series[mascara]\n",
    "print(\"\\nSéries com mais de 4 temporadas:\")\n",
    "print(series_acima_de_quatro_temporadas)\n",
    "\n",
    "# Adicionar novos dados ao DataFrame\n",
    "novas_series = pd.DataFrame({\n",
    "    'Série': ['Stranger Things', 'Sherlock'],\n",
    "    'Gênero': ['Sci-Fi', 'Mistério'],\n",
    "    'Temporadas': [3, 4],\n",
    "    'Avaliação': [8.8, 9.1]\n",
    "})\n",
    "\n",
    "# Concatenar os novos dados ao DataFrame existente\n",
    "df_series = pd.concat([df_series, novas_series], ignore_index=True)\n",
    "\n",
    "print(\"\\nDataFrame após adicionar novas séries:\")\n",
    "print(df_series)\n",
    "\n",
    "# Editar dados existentes\n",
    "# Suponha que queremos atualizar a avaliação de 'The Big Bang Theory'\n",
    "df_series.loc[df_series['Série'] == 'The Big Bang Theory', 'Avaliação'] = 8.5  # Atualiza a avaliação\n",
    "df_series.loc[df_series['Série'] == 'The Lord of the Rings', 'Temporadas'] = 2  # Atualiza o número de temporadas\n",
    "\n",
    "print(\"\\nDataFrame após editar dados:\")\n",
    "print(df_series)"
   ]
  }
 ],
 "metadata": {
  "kernelspec": {
   "display_name": "Python 3",
   "language": "python",
   "name": "python3"
  },
  "language_info": {
   "codemirror_mode": {
    "name": "ipython",
    "version": 3
   },
   "file_extension": ".py",
   "mimetype": "text/x-python",
   "name": "python",
   "nbconvert_exporter": "python",
   "pygments_lexer": "ipython3",
   "version": "3.12.6"
  }
 },
 "nbformat": 4,
 "nbformat_minor": 2
}
