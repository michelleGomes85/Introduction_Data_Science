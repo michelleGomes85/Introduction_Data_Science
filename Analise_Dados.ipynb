{
 "cells": [
  {
   "cell_type": "code",
   "execution_count": 2,
   "metadata": {},
   "outputs": [],
   "source": [
    "import pandas as pd"
   ]
  },
  {
   "cell_type": "markdown",
   "metadata": {},
   "source": [
    "**Analisando Dados**\n",
    "\n",
    "Analisar dados é o processo de inspecionar, limpar, transformar e modelar dados com o objetivo de descobrir informações úteis, informar decisões e apoiar conclusões. Um dos passos iniciais em uma análise é explorar o conjunto de dados, buscando entender a estrutura, distribuições e possíveis padrões."
   ]
  },
  {
   "cell_type": "markdown",
   "metadata": {},
   "source": [
    "Exportando arquivo .csv, e dando uma olhada nas 5 primeiras linhas"
   ]
  },
  {
   "cell_type": "code",
   "execution_count": 3,
   "metadata": {},
   "outputs": [
    {
     "data": {
      "text/html": [
       "<div>\n",
       "<style scoped>\n",
       "    .dataframe tbody tr th:only-of-type {\n",
       "        vertical-align: middle;\n",
       "    }\n",
       "\n",
       "    .dataframe tbody tr th {\n",
       "        vertical-align: top;\n",
       "    }\n",
       "\n",
       "    .dataframe thead th {\n",
       "        text-align: right;\n",
       "    }\n",
       "</style>\n",
       "<table border=\"1\" class=\"dataframe\">\n",
       "  <thead>\n",
       "    <tr style=\"text-align: right;\">\n",
       "      <th></th>\n",
       "      <th>Tipo Titulo</th>\n",
       "      <th>Vencimento do Titulo</th>\n",
       "      <th>Mes Estoque</th>\n",
       "      <th>PU</th>\n",
       "      <th>Quantidade</th>\n",
       "      <th>Valor Estoque</th>\n",
       "    </tr>\n",
       "  </thead>\n",
       "  <tbody>\n",
       "    <tr>\n",
       "      <th>0</th>\n",
       "      <td>Tesouro IPCA+ com Juros Semestrais</td>\n",
       "      <td>15/05/2045</td>\n",
       "      <td>12/2006</td>\n",
       "      <td>1177,096763</td>\n",
       "      <td>11680,80</td>\n",
       "      <td>13749431,86</td>\n",
       "    </tr>\n",
       "    <tr>\n",
       "      <th>1</th>\n",
       "      <td>Tesouro IGPM+ com Juros Semestrais</td>\n",
       "      <td>01/07/2017</td>\n",
       "      <td>12/2006</td>\n",
       "      <td>1631,064966</td>\n",
       "      <td>11019,60</td>\n",
       "      <td>17973683,50</td>\n",
       "    </tr>\n",
       "    <tr>\n",
       "      <th>2</th>\n",
       "      <td>Tesouro IPCA+ com Juros Semestrais</td>\n",
       "      <td>15/05/2015</td>\n",
       "      <td>12/2006</td>\n",
       "      <td>1364,426939</td>\n",
       "      <td>10408,60</td>\n",
       "      <td>14201774,24</td>\n",
       "    </tr>\n",
       "    <tr>\n",
       "      <th>3</th>\n",
       "      <td>Tesouro IGPM+ com Juros Semestrais</td>\n",
       "      <td>01/01/2031</td>\n",
       "      <td>12/2006</td>\n",
       "      <td>2565,474340</td>\n",
       "      <td>15951,20</td>\n",
       "      <td>40922394,29</td>\n",
       "    </tr>\n",
       "    <tr>\n",
       "      <th>4</th>\n",
       "      <td>Tesouro IGPM+ com Juros Semestrais</td>\n",
       "      <td>01/04/2021</td>\n",
       "      <td>12/2006</td>\n",
       "      <td>1532,573046</td>\n",
       "      <td>11017,00</td>\n",
       "      <td>16884357,24</td>\n",
       "    </tr>\n",
       "  </tbody>\n",
       "</table>\n",
       "</div>"
      ],
      "text/plain": [
       "                          Tipo Titulo Vencimento do Titulo Mes Estoque  \\\n",
       "0  Tesouro IPCA+ com Juros Semestrais           15/05/2045     12/2006   \n",
       "1  Tesouro IGPM+ com Juros Semestrais           01/07/2017     12/2006   \n",
       "2  Tesouro IPCA+ com Juros Semestrais           15/05/2015     12/2006   \n",
       "3  Tesouro IGPM+ com Juros Semestrais           01/01/2031     12/2006   \n",
       "4  Tesouro IGPM+ com Juros Semestrais           01/04/2021     12/2006   \n",
       "\n",
       "            PU Quantidade Valor Estoque  \n",
       "0  1177,096763   11680,80   13749431,86  \n",
       "1  1631,064966   11019,60   17973683,50  \n",
       "2  1364,426939   10408,60   14201774,24  \n",
       "3  2565,474340   15951,20   40922394,29  \n",
       "4  1532,573046   11017,00   16884357,24  "
      ]
     },
     "execution_count": 3,
     "metadata": {},
     "output_type": "execute_result"
    }
   ],
   "source": [
    "tesouroDireto = pd.read_csv('csv/EstoqueTesouroDireto.csv', delimiter=';')\n",
    "\n",
    "tesouroDireto.head()"
   ]
  },
  {
   "cell_type": "markdown",
   "metadata": {},
   "source": [
    "**Definição de uma Hipótese**\n",
    "\n",
    "Uma hipótese é uma suposição ou previsão que você deseja testar usando os dados. Para o Tesouro Direto, uma hipótese pode ser:\n",
    "\n",
    "Hipótese: *\"A maioria dos investidores prefere títulos com vencimento de longo prazo (mais de 5 anos) em vez de títulos de curto prazo.\"*"
   ]
  },
  {
   "cell_type": "code",
   "execution_count": 5,
   "metadata": {},
   "outputs": [
    {
     "name": "stdout",
     "output_type": "stream",
     "text": [
      "Prazo\n",
      "Curto Prazo    5901\n",
      "Longo Prazo    1738\n",
      "dtype: int64\n"
     ]
    }
   ],
   "source": [
    "# Convertendo a coluna de data de vencimento para datetime, se necessário\n",
    "tesouroDireto['Vencimento do Titulo'] = pd.to_datetime(tesouroDireto['Vencimento do Titulo'], errors='coerce')\n",
    "\n",
    "# Calculando o tempo restante para o vencimento\n",
    "tesouroDireto['Tempo para Vencimento'] = (tesouroDireto['Vencimento do Titulo'] - pd.Timestamp.now()).dt.days\n",
    "\n",
    "# Classificando entre curto prazo (<= 5 anos) e longo prazo (> 5 anos)\n",
    "tesouroDireto['Prazo'] = tesouroDireto['Tempo para Vencimento'].apply(lambda x: 'Curto Prazo' if x <= 5*365 else 'Longo Prazo')\n",
    "\n",
    "# Agrupando por 'Prazo' e contando a quantidade de títulos em cada categoria\n",
    "vencimento_contagem = tesouroDireto.groupby('Prazo').size()\n",
    "\n",
    "# Exibindo a contagem de títulos por prazo\n",
    "print(vencimento_contagem)"
   ]
  },
  {
   "cell_type": "markdown",
   "metadata": {},
   "source": [
    "A distribuição de títulos por prazo mostra que há uma quantidade significativamente maior de títulos de curto prazo em comparação aos de longo prazo. Isso refuta a hipótese inicial de que \"a maioria dos investidores prefere títulos com vencimento de longo prazo (mais de 5 anos)\"."
   ]
  }
 ],
 "metadata": {
  "kernelspec": {
   "display_name": "Python 3",
   "language": "python",
   "name": "python3"
  },
  "language_info": {
   "codemirror_mode": {
    "name": "ipython",
    "version": 3
   },
   "file_extension": ".py",
   "mimetype": "text/x-python",
   "name": "python",
   "nbconvert_exporter": "python",
   "pygments_lexer": "ipython3",
   "version": "3.12.6"
  }
 },
 "nbformat": 4,
 "nbformat_minor": 2
}
