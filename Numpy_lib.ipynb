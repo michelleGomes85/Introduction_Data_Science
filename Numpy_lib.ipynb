{
  "cells": [
    {
      "cell_type": "markdown",
      "metadata": {},
      "source": [
        "**Importando Biblioteca**"
      ]
    },
    {
      "cell_type": "code",
      "execution_count": 2,
      "metadata": {
        "id": "-NeaZ0WXqERZ"
      },
      "outputs": [],
      "source": [
        "import numpy as np"
      ]
    },
    {
      "cell_type": "markdown",
      "metadata": {
        "id": "lH6xCHWNstUR"
      },
      "source": [
        "**Array do Numpy**"
      ]
    },
    {
      "cell_type": "code",
      "execution_count": null,
      "metadata": {
        "id": "pXaeeWFwsv6p"
      },
      "outputs": [],
      "source": [
        "arr_zeros = np.zeros(10)\n",
        "\n",
        "print(arr_zeros)\n",
        "\n",
        "# alterando\n",
        "arr_zeros[0] = 9\n",
        "\n",
        "print(arr_zeros)"
      ]
    },
    {
      "cell_type": "markdown",
      "metadata": {
        "id": "Yyqh40_4szsg"
      },
      "source": [
        "**Matriz do Numpy**"
      ]
    },
    {
      "cell_type": "code",
      "execution_count": null,
      "metadata": {
        "colab": {
          "base_uri": "https://localhost:8080/"
        },
        "id": "2_p1W38vs9bu",
        "outputId": "a29840b9-4c6a-4bb3-ccc4-55ecfcc8c7eb"
      },
      "outputs": [],
      "source": [
        "matriz_zeros = np.zeros((3,3))\n",
        "\n",
        "print(matriz_zeros)\n",
        "\n",
        "# alterando\n",
        "matriz_zeros[0][0] = 9\n",
        "\n",
        "print(matriz_zeros)"
      ]
    },
    {
      "cell_type": "markdown",
      "metadata": {
        "id": "-xIwTe4xtqfu"
      },
      "source": [
        "**Contas que podem ser realizadas**"
      ]
    },
    {
      "cell_type": "code",
      "execution_count": null,
      "metadata": {
        "colab": {
          "base_uri": "https://localhost:8080/"
        },
        "id": "Npg4ybcotqJf",
        "outputId": "f1320d82-9aa7-4b11-a1be-d2133d52cb7d"
      },
      "outputs": [],
      "source": [
        "lista_de_notas = [9.0, 5.5, 7.8, 9.1, 6.5]\n",
        "\n",
        "notas = np.array(lista_de_notas)\n",
        "\n",
        "print(notas.max())\n",
        "print(notas.min())\n",
        "print(notas.mean())\n",
        "print(notas.sum())"
      ]
    },
    {
      "cell_type": "markdown",
      "metadata": {
        "id": "OLBbjDwZuAgl"
      },
      "source": [
        "**Outros calculos**"
      ]
    },
    {
      "cell_type": "code",
      "execution_count": null,
      "metadata": {
        "colab": {
          "base_uri": "https://localhost:8080/"
        },
        "id": "gzzOQepZsct7",
        "outputId": "7fdb8420-8807-4b8e-870a-69b51a55ca84"
      },
      "outputs": [],
      "source": [
        "# Desvio padrão\n",
        "print(notas.std())\n",
        "\n",
        "# Variância\n",
        "print(notas.var())\n",
        "\n",
        "#Media\n",
        "print(notas.mean())\n",
        "\n",
        "# Mediana\n",
        "print(np.median(notas))\n",
        "\n",
        "#Posição do menor\n",
        "print(notas.argmin())"
      ]
    },
    {
      "cell_type": "markdown",
      "metadata": {
        "id": "kNePEpfNujmz"
      },
      "source": [
        "**Pratica**\n",
        "\n",
        "→ Pedir para o usuário digitar 10 números, e calcular a média o desvio padrão, entre outras coisas para treinar\n"
      ]
    },
    {
      "cell_type": "code",
      "execution_count": 3,
      "metadata": {
        "colab": {
          "base_uri": "https://localhost:8080/"
        },
        "id": "HAfgIDh5uhWs",
        "outputId": "027704ed-a2e5-43bf-c706-53a6f4a6fa4e"
      },
      "outputs": [],
      "source": [
        "# Pedir ao usuário para digitar 10 números\n",
        "numeros = []\n",
        "for i in range(10):\n",
        "    while True:\n",
        "        try:\n",
        "            numero = float(input(f\"Digite o {i+1}º número: \"))\n",
        "            numeros.append(numero)\n",
        "            break  # Sai do loop se a conversão foi bem-sucedida\n",
        "        except ValueError:\n",
        "            print(\"Entrada inválida. Por favor, insira um número válido.\")\n",
        "\n",
        "# Converter a lista de números para um array numpy\n",
        "numeros_array = np.array(numeros)\n",
        "\n",
        "# Calcular a média\n",
        "media = np.mean(numeros_array)\n",
        "\n",
        "# Calcular o desvio padrão\n",
        "desvio_padrao = np.std(numeros_array)\n",
        "\n",
        "# Calcular a mediana\n",
        "mediana = np.median(numeros_array)\n",
        "\n",
        "# Calcular o valor máximo e mínimo\n",
        "valor_maximo = np.max(numeros_array)\n",
        "valor_minimo = np.min(numeros_array)\n",
        "\n",
        "# Exibir os resultados\n",
        "print(f\"\\nMédia: {media}\")\n",
        "print(f\"Desvio padrão: {desvio_padrao}\")\n",
        "print(f\"Mediana: {mediana}\")\n",
        "print(f\"Valor máximo: {valor_maximo}\")\n",
        "print(f\"Valor mínimo: {valor_minimo}\")\n"
      ]
    },
    {
      "cell_type": "markdown",
      "metadata": {
        "id": "nogt4Vtlvyz4"
      },
      "source": [
        "**Máscara Booleana**\n",
        "\n",
        "A máscara booleana em programação (especialmente em bibliotecas como NumPy no Python) é uma técnica que envolve o uso de valores booleanos (True ou False) para filtrar ou selecionar elementos em uma coleção de dados, como arrays ou listas, com base em uma condição.\n",
        "\n",
        "**Conceito**\n",
        "Quando aplicamos uma máscara booleana a um array ou lista, o resultado é um novo array ou subconjunto de dados que contém apenas os elementos onde a condição associada à máscara foi satisfeita (ou seja, onde o valor é True)."
      ]
    },
    {
      "cell_type": "code",
      "execution_count": null,
      "metadata": {
        "colab": {
          "base_uri": "https://localhost:8080/"
        },
        "id": "l2rkjB00xGiV",
        "outputId": "49fd20e3-1243-40b5-9807-5606583fcc99"
      },
      "outputs": [],
      "source": [
        "# Criando um array de números\n",
        "array = np.array([10, 15, 20, 25, 30, 35, 40])\n",
        "\n",
        "# Criando uma máscara booleana para filtrar valores maiores que 20\n",
        "mascara = array > 20\n",
        "\n",
        "print(\"Máscara booleana:\")\n",
        "print(mascara)  # Exibe: [False False False  True  True  True  True]\n",
        "\n",
        "# Aplicando a máscara para filtrar o array\n",
        "array_filtrado = array[mascara]\n",
        "\n",
        "print(\"Array filtrado:\")\n",
        "print(array_filtrado)  # Exibe: [25 30 35 40]"
      ]
    }
  ],
  "metadata": {
    "colab": {
      "provenance": []
    },
    "kernelspec": {
      "display_name": "Python 3",
      "name": "python3"
    },
    "language_info": {
      "codemirror_mode": {
        "name": "ipython",
        "version": 3
      },
      "file_extension": ".py",
      "mimetype": "text/x-python",
      "name": "python",
      "nbconvert_exporter": "python",
      "pygments_lexer": "ipython3",
      "version": "3.12.6"
    }
  },
  "nbformat": 4,
  "nbformat_minor": 0
}
